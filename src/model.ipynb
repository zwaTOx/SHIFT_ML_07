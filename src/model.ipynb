{
 "cells": [
  {
   "cell_type": "code",
   "execution_count": 1,
   "id": "74f07ad6-0ef9-4368-9ad2-266ad9a0ac42",
   "metadata": {},
   "outputs": [],
   "source": [
    "import pandas as pd\n",
    "import numpy as np\n",
    "from sklearn.linear_model import LinearRegression\n",
    "from sklearn.model_selection import train_test_split\n",
    "from sklearn.metrics import mean_squared_log_error\n",
    "import matplotlib.pyplot as plt\n",
    "import seaborn as sns\n",
    "from sklearn.ensemble import RandomForestRegressor, StackingRegressor\n",
    "from catboost import CatBoostRegressor, Pool, cv\n",
    "import xgboost as xgb\n",
    "\n",
    "train = pd.read_parquet('data/train/train_main_df.parquet')\n",
    "target = pd.read_csv('data/info/train_target.csv')\n",
    "test = pd.read_parquet('data/test/test_main_df.parquet')\n",
    "\n",
    "train_main = pd.read_parquet('data/train/train_main_df.parquet')\n",
    "target = pd.read_csv('data/info/train_target.csv')\n",
    "mcc_features = ['sum_most_popular_mcc_5699_12m', 'sum_most_popular_mcc_5699_6m', 'sum_most_popular_mcc_6012_3m', 'sum_most_popular_mcc_6012_6m', 'sum_most_popular_mcc_5814_12m', 'sum_most_popular_mcc_5422_3m', 'cnt_most_popular_mcc_9222_6m', 'sum_most_popular_mcc_4814_6m', 'cnt_most_popular_mcc_9222_12m', 'sum_most_popular_mcc_5993_6m', 'cnt_most_popular_mcc_5422_3m', 'cnt_most_popular_mcc_5422_6m', 'sum_most_popular_mcc_5993_3m', 'cnt_most_popular_mcc_5814_1m', 'sum_most_popular_mcc_6011_3m']\n",
    "\n",
    "train_mcc = pd.read_parquet('data/train/train_mcc_operations_df.parquet')\n",
    "\n",
    "train = train_main.merge(\n",
    "    train_mcc[mcc_features], \n",
    "    left_index=True, \n",
    "    right_index=True,  \n",
    "    how='left'         \n",
    ")\n",
    "\n",
    "test_main = pd.read_parquet('data/test/test_main_df.parquet')\n",
    "\n",
    "test_mcc = pd.read_parquet('data/test/test_mcc_operations_df.parquet')\n",
    "\n",
    "test = test_main.merge(\n",
    "    test_mcc[mcc_features], \n",
    "    left_index=True, \n",
    "    right_index=True,  \n",
    "    how='left'         \n",
    ")"
   ]
  },
  {
   "cell_type": "code",
   "execution_count": 2,
   "id": "832b2b3b",
   "metadata": {},
   "outputs": [],
   "source": [
    "notcool_features = [\n",
    "    'income_verified',\n",
    "    'zp_payments_1month',\n",
    "    'zp_flag_12month', \n",
    "    'savings_safe_acc_flg', \n",
    "    'zp_flag_18month', \n",
    "    'zp_flag_24month', \n",
    "    'zp_flag_3month', \n",
    "    'zp_flag_6month', \n",
    "    'zp_flag_9month',\n",
    "    \n",
    "    'cnt_manage_5y',\t\n",
    "    'app_real_estate_ind',\n",
    "    'cnt_account_5y',\n",
    "    'app_vehicle_ind',\n",
    "\n",
    "    'vehicle_counrty_type_nm',\n",
    "    'max_amt_foreign_cur_5y',\n",
    "    'max_amt_dep_6m',\n",
    "    'min_amt_term_g1y',\n",
    "    #new\n",
    "    \"zp_first_month\", \n",
    "    \"zp_mean_12month\", \n",
    "    \"zp_mean_24month\", \n",
    "    \"sum_amount_zp_12m\"\n",
    "]"
   ]
  },
  {
   "cell_type": "code",
   "execution_count": 3,
   "id": "d700bd04",
   "metadata": {},
   "outputs": [
    {
     "data": {
      "text/plain": [
       "274"
      ]
     },
     "execution_count": 3,
     "metadata": {},
     "output_type": "execute_result"
    }
   ],
   "source": [
    "cleaned_df = train.drop(columns=notcool_features)\n",
    "len(cleaned_df.columns)"
   ]
  },
  {
   "cell_type": "code",
   "execution_count": 4,
   "id": "4d58b05e",
   "metadata": {},
   "outputs": [
    {
     "name": "stderr",
     "output_type": "stream",
     "text": [
      "C:\\Users\\Пользователь\\AppData\\Local\\Temp\\ipykernel_4380\\4013919353.py:1: FutureWarning: Downcasting behavior in `replace` is deprecated and will be removed in a future version. To retain the old behavior, explicitly call `result.infer_objects(copy=False)`. To opt-in to the future behavior, set `pd.set_option('future.no_silent_downcasting', True)`\n",
      "  train['salary_flg'] = train['salary_flg'].replace('SZP', 1).replace('IZP', 0).replace('OTHER', 0).replace('', 0)\n",
      "C:\\Users\\Пользователь\\AppData\\Local\\Temp\\ipykernel_4380\\4013919353.py:2: FutureWarning: Downcasting behavior in `replace` is deprecated and will be removed in a future version. To retain the old behavior, explicitly call `result.infer_objects(copy=False)`. To opt-in to the future behavior, set `pd.set_option('future.no_silent_downcasting', True)`\n",
      "  train['gender_nm'] = train['gender_nm'].replace(\"Ж\", 1).replace(\"М\", 0).replace('?', 0.5)\n",
      "C:\\Users\\Пользователь\\AppData\\Local\\Temp\\ipykernel_4380\\4013919353.py:3: FutureWarning: Downcasting behavior in `replace` is deprecated and will be removed in a future version. To retain the old behavior, explicitly call `result.infer_objects(copy=False)`. To opt-in to the future behavior, set `pd.set_option('future.no_silent_downcasting', True)`\n",
      "  train['current_work_experience_nm'] = train['current_work_experience_nm'].replace(\"\", 3).replace(\"0-3м\", 0).replace(\"3-6м\", 1).replace(\"6-12м\", 2).replace('12м+', 3)\n",
      "C:\\Users\\Пользователь\\AppData\\Local\\Temp\\ipykernel_4380\\4013919353.py:4: FutureWarning: Downcasting behavior in `replace` is deprecated and will be removed in a future version. To retain the old behavior, explicitly call `result.infer_objects(copy=False)`. To opt-in to the future behavior, set `pd.set_option('future.no_silent_downcasting', True)`\n",
      "  train['savings_service_model_cd'] = train['savings_service_model_cd'].replace(\"Массовый\", 0).replace(\"Привилегия\", 1).replace(\"VIP\", 2)\n",
      "C:\\Users\\Пользователь\\AppData\\Local\\Temp\\ipykernel_4380\\4013919353.py:5: FutureWarning: Downcasting behavior in `replace` is deprecated and will be removed in a future version. To retain the old behavior, explicitly call `result.infer_objects(copy=False)`. To opt-in to the future behavior, set `pd.set_option('future.no_silent_downcasting', True)`\n",
      "  test['salary_flg'] = test['salary_flg'].replace('SZP', 1).replace('IZP', 0).replace('OTHER', 0).replace('', 0)\n",
      "C:\\Users\\Пользователь\\AppData\\Local\\Temp\\ipykernel_4380\\4013919353.py:6: FutureWarning: Downcasting behavior in `replace` is deprecated and will be removed in a future version. To retain the old behavior, explicitly call `result.infer_objects(copy=False)`. To opt-in to the future behavior, set `pd.set_option('future.no_silent_downcasting', True)`\n",
      "  test['gender_nm'] = test['gender_nm'].replace(\"Ж\", 1).replace(\"М\", 0).replace('?', 0.5)\n",
      "C:\\Users\\Пользователь\\AppData\\Local\\Temp\\ipykernel_4380\\4013919353.py:7: FutureWarning: Downcasting behavior in `replace` is deprecated and will be removed in a future version. To retain the old behavior, explicitly call `result.infer_objects(copy=False)`. To opt-in to the future behavior, set `pd.set_option('future.no_silent_downcasting', True)`\n",
      "  test['current_work_experience_nm'] = test['current_work_experience_nm'].replace(\"\", 3).replace(\"0-3м\", 0).replace(\"3-6м\", 1).replace(\"6-12м\", 2).replace('12м+', 3)\n",
      "C:\\Users\\Пользователь\\AppData\\Local\\Temp\\ipykernel_4380\\4013919353.py:8: FutureWarning: Downcasting behavior in `replace` is deprecated and will be removed in a future version. To retain the old behavior, explicitly call `result.infer_objects(copy=False)`. To opt-in to the future behavior, set `pd.set_option('future.no_silent_downcasting', True)`\n",
      "  test['savings_service_model_cd'] = test['savings_service_model_cd'].replace(\"Массовый\", 0).replace(\"Привилегия\", 1).replace(\"VIP\", 2)\n"
     ]
    }
   ],
   "source": [
    "train['salary_flg'] = train['salary_flg'].replace('SZP', 1).replace('IZP', 0).replace('OTHER', 0).replace('', 0) \n",
    "train['gender_nm'] = train['gender_nm'].replace(\"Ж\", 1).replace(\"М\", 0).replace('?', 0.5)\n",
    "train['current_work_experience_nm'] = train['current_work_experience_nm'].replace(\"\", 3).replace(\"0-3м\", 0).replace(\"3-6м\", 1).replace(\"6-12м\", 2).replace('12м+', 3)\n",
    "train['savings_service_model_cd'] = train['savings_service_model_cd'].replace(\"Массовый\", 0).replace(\"Привилегия\", 1).replace(\"VIP\", 2)\n",
    "test['salary_flg'] = test['salary_flg'].replace('SZP', 1).replace('IZP', 0).replace('OTHER', 0).replace('', 0) \n",
    "test['gender_nm'] = test['gender_nm'].replace(\"Ж\", 1).replace(\"М\", 0).replace('?', 0.5)\n",
    "test['current_work_experience_nm'] = test['current_work_experience_nm'].replace(\"\", 3).replace(\"0-3м\", 0).replace(\"3-6м\", 1).replace(\"6-12м\", 2).replace('12м+', 3)\n",
    "test['savings_service_model_cd'] = test['savings_service_model_cd'].replace(\"Массовый\", 0).replace(\"Привилегия\", 1).replace(\"VIP\", 2)"
   ]
  },
  {
   "cell_type": "code",
   "execution_count": 5,
   "id": "98974d08",
   "metadata": {},
   "outputs": [],
   "source": [
    "def create_new_features(df):\n",
    "    # 1. Средний баланс за последние 3, 6, 12 месяцев\n",
    "    df['avg_balance_3m'] = df[['avg_dep_avg_balance_1month_amt', \n",
    "                               'avg_dep_avg_balance_3month_amt']].mean(axis=1)\n",
    "    df['avg_balance_6m'] = df[['avg_dep_avg_balance_3month_amt', \n",
    "                               'avg_dep_avg_balance_6month_amt']].mean(axis=1)\n",
    "    df['avg_balance_12m'] = df[['avg_dep_avg_balance_6month_amt', \n",
    "                                'avg_dep_avg_balance_12month_amt']].mean(axis=1)\n",
    "    \n",
    "    # 2. Изменение баланса за последние месяцы\n",
    "    df['balance_change_1m'] = df['avg_dep_avg_balance_1month_amt'] - df['avg_dep_avg_balance_3month_amt']\n",
    "    df['balance_change_3m'] = df['avg_dep_avg_balance_3month_amt'] - df['avg_dep_avg_balance_6month_amt']\n",
    "    df['balance_change_6m'] = df['avg_dep_avg_balance_6month_amt'] - df['avg_dep_avg_balance_12month_amt']\n",
    "    \n",
    "    # 3. Тренды по сбережениям\n",
    "    df['savings_trend_3m'] = df['savings_sum_dep_now'] - df['savings_sum_dep_3m']\n",
    "    df['savings_trend_6m'] = df['savings_sum_dep_now'] - df['savings_sum_dep_6m']\n",
    "    \n",
    "    # 4. Флаги крупных операций\n",
    "    df['large_deposit_flag'] = np.where(df['max_max_dep_income_amt'] > df['avg_dep_avg_balance_12month_amt'], 1, 0)\n",
    "    \n",
    "    return df\n",
    "train = create_new_features(train)\n",
    "test = create_new_features(test)"
   ]
  },
  {
   "cell_type": "code",
   "execution_count": 6,
   "id": "4c3256ec",
   "metadata": {},
   "outputs": [],
   "source": [
    "num_features = list(train.select_dtypes(include=['number']).columns.drop(notcool_features))\n",
    "new_features = [\n",
    "    'avg_balance_3m',\n",
    "    'avg_balance_6m',\n",
    "    'avg_balance_12m',\n",
    "    'balance_change_1m',\n",
    "    'balance_change_3m',\n",
    "    'balance_change_6m',\n",
    "    'savings_trend_3m',\n",
    "    'savings_trend_6m',\n",
    "    'large_deposit_flag',\n",
    "]\n",
    "\n",
    "num_features = list(set(num_features + new_features))"
   ]
  },
  {
   "cell_type": "code",
   "execution_count": 7,
   "id": "3053dc02",
   "metadata": {},
   "outputs": [],
   "source": [
    "for col in num_features:\n",
    "    q1 = train[col].quantile(0.01)\n",
    "    q99 = train[col].quantile(0.99)\n",
    "    train[col] = train[col].clip(q1, q99)\n",
    "    test[col] = test[col].clip(q1, q99)"
   ]
  },
  {
   "cell_type": "code",
   "execution_count": null,
   "id": "c85c6557",
   "metadata": {},
   "outputs": [],
   "source": [
    "X_train = train[num_features]\n",
    "y_train = np.log1p(target['target'])\n",
    "\n",
    "estimators = [\n",
    "    ('xgb', xgb.XGBRegressor(objective='reg:squarederror',\n",
    "    n_estimators=120,\n",
    "    max_depth=7,\n",
    "    learning_rate=0.05,\n",
    "    subsample=0.9,\n",
    "    colsample_bytree=0.9,\n",
    "    reg_alpha=0.1,\n",
    "    reg_lambda=1.0,\n",
    "    tree_method='hist',\n",
    "    n_jobs=-1)),\n",
    "    ('cat', CatBoostRegressor(verbose=False))\n",
    "]\n",
    "\n",
    "model = StackingRegressor(estimators=estimators, final_estimator=LinearRegression())\n",
    "model.fit(X_train, y_train)\n",
    "test_predict = model.predict(test[num_features])\n",
    "y_pred = np.expm1(test_predict)\n",
    "y_pred = np.clip(y_pred, 0, None)\n",
    "submission = pd.DataFrame()\n",
    "submission['id'] = test['id']\n",
    "submission['target'] = y_pred\n",
    "submission.to_csv('submission.csv', index=False)"
   ]
  },
  {
   "cell_type": "code",
   "execution_count": null,
   "id": "55b4c15c",
   "metadata": {},
   "outputs": [],
   "source": [
    "X_train, X_valid, y_train, y_valid = train_test_split(train[num_features], target['target'], test_size=0.3, random_state=42, shuffle=False)"
   ]
  },
  {
   "cell_type": "code",
   "execution_count": null,
   "id": "06f7fc5d",
   "metadata": {},
   "outputs": [
    {
     "name": "stdout",
     "output_type": "stream",
     "text": [
      "RMSLE: 1.8566541480862322\n"
     ]
    }
   ],
   "source": [
    "X_train = train[num_features]\n",
    "y_train = np.log1p(target['target'])\n",
    "model = xgb.XGBRegressor(\n",
    "    objective='reg:squarederror',\n",
    "    n_estimators=120,\n",
    "    max_depth=7,\n",
    "    learning_rate=0.05,\n",
    "    subsample=0.9,\n",
    "    colsample_bytree=0.9,\n",
    "    reg_alpha=0.1,\n",
    "    reg_lambda=1.0,\n",
    "    tree_method='hist',\n",
    "    n_jobs=-1\n",
    ")\n",
    "model.fit(X_train, y_train)\n",
    "predictions = model.predict(X_valid[num_features])\n",
    "y_pred = np.exp(predictions) - 1\n",
    "#y_valid = np.exp(y_valid) - 1\n",
    "\n",
    "rmsle = np.sqrt(mean_squared_log_error(y_valid, y_pred))\n",
    "print(f'RMSLE: {rmsle}')\n",
    "\n",
    "# RMSLE: X_train = train[num_features]\n",
    "y_train = np.log1p(target['target'])\n",
    "model = xgb.XGBRegressor(\n",
    "    objective='reg:squarederror',\n",
    "    n_estimators=120,\n",
    "    max_depth=7,\n",
    "    learning_rate=0.05,\n",
    "    subsample=0.9,\n",
    "    colsample_bytree=0.9,\n",
    "    reg_alpha=0.1,\n",
    "    reg_lambda=1.0,\n",
    "    tree_method='hist',\n",
    "    n_jobs=-1\n",
    ")\n",
    "model.fit(X_train, y_train)\n",
    "predictions = model.predict(X_valid[num_features])\n",
    "y_pred = np.exp(predictions) - 1\n",
    "#y_valid = np.exp(y_valid) - 1\n",
    "\n",
    "rmsle = np.sqrt(mean_squared_log_error(y_valid, y_pred))\n",
    "print(f'RMSLE: {rmsle}')\n",
    "\n",
    "# RMSLE: 1.8566541480862322"
   ]
  },
  {
   "cell_type": "code",
   "execution_count": null,
   "id": "40dde5a9",
   "metadata": {},
   "outputs": [],
   "source": [
    "from sklearn.ensemble import StackingRegressor\n",
    "\n",
    "estimators = [\n",
    "    ('xgb', xgb.XGBRegressor(max_depth=5, learning_rate=0.01)),\n",
    "    ('cat', CatBoostRegressor(verbose=False))\n",
    "]\n",
    "\n",
    "model = StackingRegressor(estimators=estimators, final_estimator=LinearRegression())\n",
    "model.fit(X_train, y_train)\n",
    "predictions = model.predict(X_valid[num_features])\n",
    "y_pred = np.exp(predictions) - 1\n",
    "#y_valid = np.exp(y_valid) - 1\n",
    "\n",
    "rmsle = np.sqrt(mean_squared_log_error(y_valid, y_pred))\n",
    "print(f'RMSLE: {rmsle}')"
   ]
  },
  {
   "cell_type": "code",
   "execution_count": null,
   "id": "faca0a98",
   "metadata": {},
   "outputs": [],
   "source": [
    "sorted_features = sorted(zip(X_train.columns, model.feature_importances_), \n",
    "                       key=lambda x: x[1], \n",
    "                       reverse=True)\n",
    "\n",
    "for feature, importance in sorted_features:\n",
    "    if importance < 0.001:\n",
    "        print(f'\"{feature}\", ')"
   ]
  },
  {
   "cell_type": "code",
   "execution_count": null,
   "id": "0812e5b2",
   "metadata": {},
   "outputs": [],
   "source": [
    "variances = X_train.var()\n",
    "sorted_variances = variances.sort_values(ascending=False)\n",
    "\n",
    "plt.figure(figsize=(12, 6))\n",
    "sorted_variances.plot(kind='bar')\n",
    "plt.title('Дисперсия признаков')\n",
    "plt.xlabel('Признаки')\n",
    "plt.ylabel('Дисперсия')\n",
    "plt.show()"
   ]
  },
  {
   "cell_type": "code",
   "execution_count": null,
   "id": "f16a36fc",
   "metadata": {},
   "outputs": [],
   "source": [
    "# Вычисляем дисперсию признаков\n",
    "variances = X_train.var()\n",
    "high_variance_features = variances[variances > 0.95]\n",
    "low_variance_features = variances[variances < 0.01]\n",
    "\n",
    "print(\"Признаки с дисперсией больше 0.95:\")\n",
    "print(high_variance_features)\n",
    "print(\"\\nПризнаки с дисперсией меньше 0.01:\")\n",
    "print(low_variance_features)\n"
   ]
  },
  {
   "cell_type": "code",
   "execution_count": null,
   "id": "c42605e2",
   "metadata": {},
   "outputs": [],
   "source": [
    "import shap\n",
    "shap.initjs()\n",
    "explainer = shap.TreeExplainer(model)\n",
    "shap_values = explainer.shap_values(X_train)\n",
    "shap.summary_plot(shap_values, X_train, plot_type=\"dot\")"
   ]
  }
 ],
 "metadata": {
  "kernelspec": {
   "display_name": "shift-2025-07",
   "language": "python",
   "name": "python3"
  },
  "language_info": {
   "codemirror_mode": {
    "name": "ipython",
    "version": 3
   },
   "file_extension": ".py",
   "mimetype": "text/x-python",
   "name": "python",
   "nbconvert_exporter": "python",
   "pygments_lexer": "ipython3",
   "version": "3.12.10"
  }
 },
 "nbformat": 4,
 "nbformat_minor": 5
}
