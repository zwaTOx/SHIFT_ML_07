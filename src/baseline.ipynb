{
 "cells": [
  {
   "cell_type": "code",
   "execution_count": null,
   "id": "74f07ad6-0ef9-4368-9ad2-266ad9a0ac42",
   "metadata": {},
   "outputs": [
    {
     "ename": "",
     "evalue": "",
     "output_type": "error",
     "traceback": [
      "\u001b[1;31mRunning cells with 'Python 3.12.10' requires the ipykernel package.\n",
      "\u001b[1;31mInstall 'ipykernel' into the Python environment. \n",
      "\u001b[1;31mCommand: 'c:/Users/Пользователь/AppData/Local/Microsoft/WindowsApps/python3.12.exe -m pip install ipykernel -U --user --force-reinstall'"
     ]
    }
   ],
   "source": [
    "import pandas as pd\n",
    "import numpy as np\n",
    "from sklearn.linear_model import LinearRegression\n",
    "\n",
    "train = pd.read_parquet('..data/train/train_main_df.parquet')\n",
    "target = pd.read_csv('..data/train/train_target.csv')\n",
    "test = pd.read_parquet('/Users/sych/projects/SHIFT_0725/baseline_short/data/test/test_main_df.parquet')\n",
    "\n",
    "# Выбираем только нужные признаки\n",
    "features = ['customer_age', 'savings_sum_dep_now']\n",
    "X_train = train[features]\n",
    "y_train = np.log1p(target['target'])  # Логарифмируем таргет как в исходном коде\n",
    "X_test = test[features]\n",
    "\n",
    "# Обучаем линейную регрессию\n",
    "model = LinearRegression()\n",
    "model.fit(X_train, y_train)\n",
    "\n",
    "# Делаем предсказания\n",
    "test_predict = model.predict(X_test)\n",
    "test_full_predict = np.exp(test_predict) - 1  # Обратное преобразование из логарифма\n",
    "\n",
    "# Формируем сабмит\n",
    "submission = pd.DataFrame()\n",
    "submission['id'] = test['id']\n",
    "submission['target'] = test_full_predict\n",
    "submission.to_csv('submission.csv', index=False)"
   ]
  }
 ],
 "metadata": {
  "kernelspec": {
   "display_name": "Python 3",
   "language": "python",
   "name": "python3"
  },
  "language_info": {
   "codemirror_mode": {
    "name": "ipython",
    "version": 3
   },
   "file_extension": ".py",
   "mimetype": "text/x-python",
   "name": "python",
   "nbconvert_exporter": "python",
   "pygments_lexer": "ipython3",
   "version": "3.12.10"
  }
 },
 "nbformat": 4,
 "nbformat_minor": 5
}
